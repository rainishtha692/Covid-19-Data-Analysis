{
 "cells": [
  {
   "cell_type": "code",
   "execution_count": 1,
   "id": "e8287f6f-78b9-4d1d-8632-9e69dfcd9511",
   "metadata": {},
   "outputs": [
    {
     "data": {
      "text/html": [
       "<div>\n",
       "<style scoped>\n",
       "    .dataframe tbody tr th:only-of-type {\n",
       "        vertical-align: middle;\n",
       "    }\n",
       "\n",
       "    .dataframe tbody tr th {\n",
       "        vertical-align: top;\n",
       "    }\n",
       "\n",
       "    .dataframe thead th {\n",
       "        text-align: right;\n",
       "    }\n",
       "</style>\n",
       "<table border=\"1\" class=\"dataframe\">\n",
       "  <thead>\n",
       "    <tr style=\"text-align: right;\">\n",
       "      <th></th>\n",
       "      <th>Country/Region</th>\n",
       "      <th>Confirmed</th>\n",
       "      <th>Deaths</th>\n",
       "      <th>Recovered</th>\n",
       "      <th>Active</th>\n",
       "      <th>New cases</th>\n",
       "      <th>New deaths</th>\n",
       "      <th>New recovered</th>\n",
       "      <th>Deaths / 100 Cases</th>\n",
       "      <th>Recovered / 100 Cases</th>\n",
       "      <th>Deaths / 100 Recovered</th>\n",
       "      <th>Confirmed last week</th>\n",
       "      <th>1 week change</th>\n",
       "      <th>1 week % increase</th>\n",
       "      <th>WHO Region</th>\n",
       "    </tr>\n",
       "  </thead>\n",
       "  <tbody>\n",
       "    <tr>\n",
       "      <th>0</th>\n",
       "      <td>Afghanistan</td>\n",
       "      <td>36263</td>\n",
       "      <td>1269</td>\n",
       "      <td>25198</td>\n",
       "      <td>9796</td>\n",
       "      <td>106</td>\n",
       "      <td>10</td>\n",
       "      <td>18</td>\n",
       "      <td>3.50</td>\n",
       "      <td>69.49</td>\n",
       "      <td>5.04</td>\n",
       "      <td>35526</td>\n",
       "      <td>737</td>\n",
       "      <td>2.07</td>\n",
       "      <td>Eastern Mediterranean</td>\n",
       "    </tr>\n",
       "    <tr>\n",
       "      <th>1</th>\n",
       "      <td>Albania</td>\n",
       "      <td>4880</td>\n",
       "      <td>144</td>\n",
       "      <td>2745</td>\n",
       "      <td>1991</td>\n",
       "      <td>117</td>\n",
       "      <td>6</td>\n",
       "      <td>63</td>\n",
       "      <td>2.95</td>\n",
       "      <td>56.25</td>\n",
       "      <td>5.25</td>\n",
       "      <td>4171</td>\n",
       "      <td>709</td>\n",
       "      <td>17.00</td>\n",
       "      <td>Europe</td>\n",
       "    </tr>\n",
       "    <tr>\n",
       "      <th>2</th>\n",
       "      <td>Algeria</td>\n",
       "      <td>27973</td>\n",
       "      <td>1163</td>\n",
       "      <td>18837</td>\n",
       "      <td>7973</td>\n",
       "      <td>616</td>\n",
       "      <td>8</td>\n",
       "      <td>749</td>\n",
       "      <td>4.16</td>\n",
       "      <td>67.34</td>\n",
       "      <td>6.17</td>\n",
       "      <td>23691</td>\n",
       "      <td>4282</td>\n",
       "      <td>18.07</td>\n",
       "      <td>Africa</td>\n",
       "    </tr>\n",
       "    <tr>\n",
       "      <th>3</th>\n",
       "      <td>Andorra</td>\n",
       "      <td>907</td>\n",
       "      <td>52</td>\n",
       "      <td>803</td>\n",
       "      <td>52</td>\n",
       "      <td>10</td>\n",
       "      <td>0</td>\n",
       "      <td>0</td>\n",
       "      <td>5.73</td>\n",
       "      <td>88.53</td>\n",
       "      <td>6.48</td>\n",
       "      <td>884</td>\n",
       "      <td>23</td>\n",
       "      <td>2.60</td>\n",
       "      <td>Europe</td>\n",
       "    </tr>\n",
       "    <tr>\n",
       "      <th>4</th>\n",
       "      <td>Angola</td>\n",
       "      <td>950</td>\n",
       "      <td>41</td>\n",
       "      <td>242</td>\n",
       "      <td>667</td>\n",
       "      <td>18</td>\n",
       "      <td>1</td>\n",
       "      <td>0</td>\n",
       "      <td>4.32</td>\n",
       "      <td>25.47</td>\n",
       "      <td>16.94</td>\n",
       "      <td>749</td>\n",
       "      <td>201</td>\n",
       "      <td>26.84</td>\n",
       "      <td>Africa</td>\n",
       "    </tr>\n",
       "  </tbody>\n",
       "</table>\n",
       "</div>"
      ],
      "text/plain": [
       "  Country/Region  Confirmed  Deaths  Recovered  Active  New cases  New deaths  \\\n",
       "0    Afghanistan      36263    1269      25198    9796        106          10   \n",
       "1        Albania       4880     144       2745    1991        117           6   \n",
       "2        Algeria      27973    1163      18837    7973        616           8   \n",
       "3        Andorra        907      52        803      52         10           0   \n",
       "4         Angola        950      41        242     667         18           1   \n",
       "\n",
       "   New recovered  Deaths / 100 Cases  Recovered / 100 Cases  \\\n",
       "0             18                3.50                  69.49   \n",
       "1             63                2.95                  56.25   \n",
       "2            749                4.16                  67.34   \n",
       "3              0                5.73                  88.53   \n",
       "4              0                4.32                  25.47   \n",
       "\n",
       "   Deaths / 100 Recovered  Confirmed last week  1 week change  \\\n",
       "0                    5.04                35526            737   \n",
       "1                    5.25                 4171            709   \n",
       "2                    6.17                23691           4282   \n",
       "3                    6.48                  884             23   \n",
       "4                   16.94                  749            201   \n",
       "\n",
       "   1 week % increase             WHO Region  \n",
       "0               2.07  Eastern Mediterranean  \n",
       "1              17.00                 Europe  \n",
       "2              18.07                 Africa  \n",
       "3               2.60                 Europe  \n",
       "4              26.84                 Africa  "
      ]
     },
     "execution_count": 1,
     "metadata": {},
     "output_type": "execute_result"
    }
   ],
   "source": [
    "##1. IMPORT THE NECESSARY LIBRARIES AND LOAD DATA\n",
    "import pandas as pd\n",
    "df = pd.read_csv('Covid-19.csv')\n",
    "\n",
    "#preview the first few rows\n",
    "df.head()\n",
    "###print(df) - preview all data "
   ]
  },
  {
   "cell_type": "code",
   "execution_count": 2,
   "id": "3c3f54ce-9711-455d-bd39-2ce15e3f0bdb",
   "metadata": {},
   "outputs": [],
   "source": [
    "##2 Correcting inconsistencies\n",
    "## 2.1 standardize column names/ lowercase,remove spaces)\n",
    "\n",
    "df.columns = df.columns.str.strip().str.lower().str.replace(' ', '_')"
   ]
  },
  {
   "cell_type": "code",
   "execution_count": 3,
   "id": "ce281f2a-70b0-489e-af25-81ef8505983c",
   "metadata": {},
   "outputs": [
    {
     "name": "stdout",
     "output_type": "stream",
     "text": [
      "Series([], Name: count, dtype: int64)\n"
     ]
    }
   ],
   "source": [
    "## checking for the duplicate country names\n",
    "## Sometimes the same country name appears twice under different names ( USA vs United States)\n",
    "\n",
    "duplicates = df['country/region'].value_counts()\n",
    "print(duplicates[duplicates > 1]) ##This filters the Series to show only countries that appear more than once"
   ]
  },
  {
   "cell_type": "code",
   "execution_count": 4,
   "id": "27c08bcf-a1c7-48ad-b340-2fa9821b0c31",
   "metadata": {},
   "outputs": [],
   "source": [
    "### clean up spaces or capitalization in who _region columns\n",
    "\n",
    "df['who_region'] = df['who_region'].str.strip().str.title() ### str.strip-> removes any leading or trailing whitespace and str.title()-> comvert text and title case each word starts with a capital letter)"
   ]
  },
  {
   "cell_type": "code",
   "execution_count": 5,
   "id": "c974f280-790c-4bf7-91ac-6b3ca8ec6b3c",
   "metadata": {},
   "outputs": [],
   "source": [
    "## verify the metric columns \n",
    "## ensure numeric values like ' 1 week % increases\" or death/100 cases are numeric ,not string\n",
    "\n",
    "df['1_week_%_increase'] = df['1_week_%_increase'].astype(float)"
   ]
  },
  {
   "cell_type": "code",
   "execution_count": 6,
   "id": "437ad033-6f45-400b-99b3-8dbb94b6d823",
   "metadata": {},
   "outputs": [
    {
     "data": {
      "text/plain": [
       "country/region            0\n",
       "confirmed                 0\n",
       "deaths                    0\n",
       "recovered                 0\n",
       "active                    0\n",
       "new_cases                 0\n",
       "new_deaths                0\n",
       "new_recovered             0\n",
       "deaths_/_100_cases        0\n",
       "recovered_/_100_cases     0\n",
       "deaths_/_100_recovered    0\n",
       "confirmed_last_week       0\n",
       "1_week_change             0\n",
       "1_week_%_increase         0\n",
       "who_region                0\n",
       "dtype: int64"
      ]
     },
     "execution_count": 6,
     "metadata": {},
     "output_type": "execute_result"
    }
   ],
   "source": [
    "## task 2 handleling missing values\n",
    "#1 . Identify missing value\n",
    "df.isnull().sum() # no missing value // ifthere was a missing value use (df.fillna(0, inplace=True) "
   ]
  },
  {
   "cell_type": "code",
   "execution_count": 7,
   "id": "998b2b3d-1e1f-43d2-92c7-b61843a86b83",
   "metadata": {},
   "outputs": [
    {
     "data": {
      "text/plain": [
       "country/region             object\n",
       "confirmed                   int64\n",
       "deaths                      int64\n",
       "recovered                   int64\n",
       "active                      int64\n",
       "new_cases                   int64\n",
       "new_deaths                  int64\n",
       "new_recovered               int64\n",
       "deaths_/_100_cases        float64\n",
       "recovered_/_100_cases     float64\n",
       "deaths_/_100_recovered    float64\n",
       "confirmed_last_week         int64\n",
       "1_week_change               int64\n",
       "1_week_%_increase         float64\n",
       "who_region                 object\n",
       "dtype: object"
      ]
     },
     "execution_count": 7,
     "metadata": {},
     "output_type": "execute_result"
    }
   ],
   "source": [
    "## Data formatting\n",
    "df.dtypes"
   ]
  },
  {
   "cell_type": "code",
   "execution_count": 8,
   "id": "32fa7e4a-c77c-4ef2-8ea7-a11ec95357fd",
   "metadata": {},
   "outputs": [],
   "source": [
    "# convert data types\n",
    "df['1_week_%_increase'] = df['1_week_%_increase'].astype(float)"
   ]
  },
  {
   "cell_type": "code",
   "execution_count": 9,
   "id": "8133ebee-cc85-4c34-a095-2eb034fd190e",
   "metadata": {},
   "outputs": [],
   "source": [
    "# changing the name on the column.\n",
    "df.rename(columns={\n",
    "    '1_week_change': 'weekly_case_change',\n",
    "    '1_week_%_increase': 'weekly_percentage_increase'\n",
    "}, inplace=True)"
   ]
  },
  {
   "cell_type": "code",
   "execution_count": 10,
   "id": "3dcd0777-949f-49f3-beda-a86ff9a01f7e",
   "metadata": {},
   "outputs": [
    {
     "data": {
      "text/plain": [
       "country/region                 object\n",
       "confirmed                       int64\n",
       "deaths                          int64\n",
       "recovered                       int64\n",
       "active                          int64\n",
       "new_cases                       int64\n",
       "new_deaths                      int64\n",
       "new_recovered                   int64\n",
       "deaths_/_100_cases            float64\n",
       "recovered_/_100_cases         float64\n",
       "deaths_/_100_recovered        float64\n",
       "confirmed_last_week             int64\n",
       "weekly_case_change              int64\n",
       "weekly_percentage_increase    float64\n",
       "who_region                     object\n",
       "dtype: object"
      ]
     },
     "execution_count": 10,
     "metadata": {},
     "output_type": "execute_result"
    }
   ],
   "source": [
    "df.dtypes"
   ]
  },
  {
   "cell_type": "code",
   "execution_count": 12,
   "id": "43fed6ec-b700-44e3-bce3-8f787cb5cb64",
   "metadata": {},
   "outputs": [],
   "source": [
    "# Function to clean column names\n",
    "def clean_column_name(col):\n",
    "    return (\n",
    "        col.strip()                      # Remove leading/trailing spaces\n",
    "        .lower()                         # Convert to lowercase\n",
    "        .replace(' ', '_')               # Replace spaces with underscores\n",
    "        .replace('/', '_')               # Replace slashes with underscores\n",
    "        .replace('%', 'percent')         # Replace percent symbol with 'percent'\n",
    "        .replace('-', '_')               # Replace dashes with underscores\n",
    "        .replace('__', '_')              # Replace double underscores with a single one\n",
    "    )\n",
    "\n",
    "# Apply the function to all column names\n",
    "df.columns = [clean_column_name(col) for col in df.columns]"
   ]
  },
  {
   "cell_type": "code",
   "execution_count": 13,
   "id": "06aa09d2-9d47-4b78-b205-0a76a9f81f63",
   "metadata": {},
   "outputs": [
    {
     "data": {
      "text/plain": [
       "country_region                 object\n",
       "confirmed                       int64\n",
       "deaths                          int64\n",
       "recovered                       int64\n",
       "active                          int64\n",
       "new_cases                       int64\n",
       "new_deaths                      int64\n",
       "new_recovered                   int64\n",
       "deaths_100_cases              float64\n",
       "recovered_100_cases           float64\n",
       "deaths_100_recovered          float64\n",
       "confirmed_last_week             int64\n",
       "weekly_case_change              int64\n",
       "weekly_percentage_increase    float64\n",
       "who_region                     object\n",
       "dtype: object"
      ]
     },
     "execution_count": 13,
     "metadata": {},
     "output_type": "execute_result"
    }
   ],
   "source": [
    "df.dtypes"
   ]
  },
  {
   "cell_type": "code",
   "execution_count": 15,
   "id": "5b1293fb-2553-4866-baf4-54a5cfc21c87",
   "metadata": {},
   "outputs": [
    {
     "name": "stdout",
     "output_type": "stream",
     "text": [
      "['country_region', 'Confirmed', 'Deaths', 'Recovered', 'Active', 'new_cases', 'new_deaths', 'new_recovered', 'deaths_100_cases', 'recovered_100_cases', 'deaths_100_recovered', 'confirmed_last_week', 'weekly_case_change', 'weekly_percentage_increase', 'who_region']\n"
     ]
    }
   ],
   "source": [
    "df.rename(columns={\n",
    "    'countryregion': 'Country_Region',\n",
    "    'confirmed': 'Confirmed',\n",
    "    'deaths': 'Deaths',\n",
    "    'recovered': 'Recovered',\n",
    "    'active': 'Active',\n",
    "    'newcases': 'New_Cases',\n",
    "    'newdeaths': 'New_Deaths',\n",
    "    'newrecovered': 'New_Recovered',\n",
    "    'deaths100cases': 'Deaths_Per_100_Cases',\n",
    "    'recovered100cases': 'Recovered_Per_100_Cases',\n",
    "    'deaths100recovered': 'Deaths_Per_100_Recovered',\n",
    "    'confirmedlastweek': 'Confirmed_Last_Week',\n",
    "    'weeklycasechange': 'Weekly_Case_Change',\n",
    "    'weeklypercentageincrease': 'Weekly_Percentage_Increase',\n",
    "    'whoregion': 'Who_Region'\n",
    "}, inplace=True)\n",
    "\n",
    "# Step 3: Check the updated column names\n",
    "print(df.columns.tolist())"
   ]
  },
  {
   "cell_type": "code",
   "execution_count": 16,
   "id": "94b99bf5-a81c-4fd5-9ddc-c7333a165034",
   "metadata": {},
   "outputs": [
    {
     "data": {
      "text/plain": [
       "country_region                 object\n",
       "Confirmed                       int64\n",
       "Deaths                          int64\n",
       "Recovered                       int64\n",
       "Active                          int64\n",
       "new_cases                       int64\n",
       "new_deaths                      int64\n",
       "new_recovered                   int64\n",
       "deaths_100_cases              float64\n",
       "recovered_100_cases           float64\n",
       "deaths_100_recovered          float64\n",
       "confirmed_last_week             int64\n",
       "weekly_case_change              int64\n",
       "weekly_percentage_increase    float64\n",
       "who_region                     object\n",
       "dtype: object"
      ]
     },
     "execution_count": 16,
     "metadata": {},
     "output_type": "execute_result"
    }
   ],
   "source": [
    "df.dtypes"
   ]
  },
  {
   "cell_type": "code",
   "execution_count": 17,
   "id": "f0473dfb-04a4-4f29-ad08-e6c17a15670b",
   "metadata": {},
   "outputs": [],
   "source": [
    "## save clean file\n",
    "df.to_csv('cleaned_covid_data.csv', index=False)"
   ]
  },
  {
   "cell_type": "code",
   "execution_count": null,
   "id": "caa26666-e730-466c-8cf2-39b5eeaf290b",
   "metadata": {},
   "outputs": [],
   "source": []
  }
 ],
 "metadata": {
  "kernelspec": {
   "display_name": "Python 3 (ipykernel)",
   "language": "python",
   "name": "python3"
  },
  "language_info": {
   "codemirror_mode": {
    "name": "ipython",
    "version": 3
   },
   "file_extension": ".py",
   "mimetype": "text/x-python",
   "name": "python",
   "nbconvert_exporter": "python",
   "pygments_lexer": "ipython3",
   "version": "3.12.7"
  }
 },
 "nbformat": 4,
 "nbformat_minor": 5
}
